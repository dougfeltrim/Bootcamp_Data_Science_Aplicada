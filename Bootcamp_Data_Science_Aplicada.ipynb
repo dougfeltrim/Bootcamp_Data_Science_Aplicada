{
  "nbformat": 4,
  "nbformat_minor": 0,
  "metadata": {
    "colab": {
      "name": "Bootcamp_Data_Science_Aplicada.ipynb",
      "provenance": [],
      "collapsed_sections": [],
      "authorship_tag": "ABX9TyMV4Z+sIugkcT4IsyxZ7yuR",
      "include_colab_link": true
    },
    "kernelspec": {
      "name": "python3",
      "display_name": "Python 3"
    },
    "language_info": {
      "name": "python"
    }
  },
  "cells": [
    {
      "cell_type": "markdown",
      "metadata": {
        "id": "view-in-github",
        "colab_type": "text"
      },
      "source": [
        "<a href=\"https://colab.research.google.com/github/dougfeltrim/Bootcamp_Data_Science_Aplicada/blob/main/Bootcamp_Data_Science_Aplicada.ipynb\" target=\"_parent\"><img src=\"https://colab.research.google.com/assets/colab-badge.svg\" alt=\"Open In Colab\"/></a>"
      ]
    },
    {
      "cell_type": "code",
      "metadata": {
        "id": "-8btzDZ-rNp9"
      },
      "source": [
        "import pandas as pd"
      ],
      "execution_count": 36,
      "outputs": []
    },
    {
      "cell_type": "code",
      "metadata": {
        "colab": {
          "base_uri": "https://localhost:8080/",
          "height": 355
        },
        "id": "xuH1xkcPGLIo",
        "outputId": "9d71d266-bed8-405c-ad64-5aa8f6174739"
      },
      "source": [
        "dados = pd.read_csv(\"/content/A182510189_28_143_208.csv\", encoding=\"utf-8\", skiprows=3, sep=\";\", skipfooter=12, thousands=\".\", decimal=\",\")\n",
        "dados.head()"
      ],
      "execution_count": 37,
      "outputs": [
        {
          "output_type": "stream",
          "text": [
            "/usr/local/lib/python3.7/dist-packages/ipykernel_launcher.py:1: ParserWarning: Falling back to the 'python' engine because the 'c' engine does not support skipfooter; you can avoid this warning by specifying engine='python'.\n",
            "  \"\"\"Entry point for launching an IPython kernel.\n"
          ],
          "name": "stderr"
        },
        {
          "output_type": "execute_result",
          "data": {
            "text/html": [
              "<div>\n",
              "<style scoped>\n",
              "    .dataframe tbody tr th:only-of-type {\n",
              "        vertical-align: middle;\n",
              "    }\n",
              "\n",
              "    .dataframe tbody tr th {\n",
              "        vertical-align: top;\n",
              "    }\n",
              "\n",
              "    .dataframe thead th {\n",
              "        text-align: right;\n",
              "    }\n",
              "</style>\n",
              "<table border=\"1\" class=\"dataframe\">\n",
              "  <thead>\n",
              "    <tr style=\"text-align: right;\">\n",
              "      <th></th>\n",
              "      <th>Unidade da Federação</th>\n",
              "      <th>2008/Jan</th>\n",
              "      <th>2008/Fev</th>\n",
              "      <th>2008/Mar</th>\n",
              "      <th>2008/Abr</th>\n",
              "      <th>2008/Mai</th>\n",
              "      <th>2008/Jun</th>\n",
              "      <th>2008/Jul</th>\n",
              "      <th>2008/Ago</th>\n",
              "      <th>2008/Set</th>\n",
              "      <th>2008/Out</th>\n",
              "      <th>2008/Nov</th>\n",
              "      <th>2008/Dez</th>\n",
              "      <th>2009/Jan</th>\n",
              "      <th>2009/Fev</th>\n",
              "      <th>2009/Mar</th>\n",
              "      <th>2009/Abr</th>\n",
              "      <th>2009/Mai</th>\n",
              "      <th>2009/Jun</th>\n",
              "      <th>2009/Jul</th>\n",
              "      <th>2009/Ago</th>\n",
              "      <th>2009/Set</th>\n",
              "      <th>2009/Out</th>\n",
              "      <th>2009/Nov</th>\n",
              "      <th>2009/Dez</th>\n",
              "      <th>2010/Jan</th>\n",
              "      <th>2010/Fev</th>\n",
              "      <th>2010/Mar</th>\n",
              "      <th>2010/Abr</th>\n",
              "      <th>2010/Mai</th>\n",
              "      <th>2010/Jun</th>\n",
              "      <th>2010/Jul</th>\n",
              "      <th>2010/Ago</th>\n",
              "      <th>2010/Set</th>\n",
              "      <th>2010/Out</th>\n",
              "      <th>2010/Nov</th>\n",
              "      <th>2010/Dez</th>\n",
              "      <th>2011/Jan</th>\n",
              "      <th>2011/Fev</th>\n",
              "      <th>2011/Mar</th>\n",
              "      <th>...</th>\n",
              "      <th>2018/Jan</th>\n",
              "      <th>2018/Fev</th>\n",
              "      <th>2018/Mar</th>\n",
              "      <th>2018/Abr</th>\n",
              "      <th>2018/Mai</th>\n",
              "      <th>2018/Jun</th>\n",
              "      <th>2018/Jul</th>\n",
              "      <th>2018/Ago</th>\n",
              "      <th>2018/Set</th>\n",
              "      <th>2018/Out</th>\n",
              "      <th>2018/Nov</th>\n",
              "      <th>2018/Dez</th>\n",
              "      <th>2019/Jan</th>\n",
              "      <th>2019/Fev</th>\n",
              "      <th>2019/Mar</th>\n",
              "      <th>2019/Abr</th>\n",
              "      <th>2019/Mai</th>\n",
              "      <th>2019/Jun</th>\n",
              "      <th>2019/Jul</th>\n",
              "      <th>2019/Ago</th>\n",
              "      <th>2019/Set</th>\n",
              "      <th>2019/Out</th>\n",
              "      <th>2019/Nov</th>\n",
              "      <th>2019/Dez</th>\n",
              "      <th>2020/Jan</th>\n",
              "      <th>2020/Fev</th>\n",
              "      <th>2020/Mar</th>\n",
              "      <th>2020/Abr</th>\n",
              "      <th>2020/Mai</th>\n",
              "      <th>2020/Jun</th>\n",
              "      <th>2020/Jul</th>\n",
              "      <th>2020/Ago</th>\n",
              "      <th>2020/Set</th>\n",
              "      <th>2020/Out</th>\n",
              "      <th>2020/Nov</th>\n",
              "      <th>2020/Dez</th>\n",
              "      <th>2021/Jan</th>\n",
              "      <th>2021/Fev</th>\n",
              "      <th>2021/Mar</th>\n",
              "      <th>Total</th>\n",
              "    </tr>\n",
              "  </thead>\n",
              "  <tbody>\n",
              "    <tr>\n",
              "      <th>0</th>\n",
              "      <td>11 Rondônia</td>\n",
              "      <td>1388528.39</td>\n",
              "      <td>2931283.42</td>\n",
              "      <td>1541682.52</td>\n",
              "      <td>1525314.96</td>\n",
              "      <td>1645953.84</td>\n",
              "      <td>1406150.68</td>\n",
              "      <td>3065279.01</td>\n",
              "      <td>3231494.61</td>\n",
              "      <td>3117178.63</td>\n",
              "      <td>3068430.44</td>\n",
              "      <td>2825838.52</td>\n",
              "      <td>2931173.58</td>\n",
              "      <td>2885269.07</td>\n",
              "      <td>2860103.74</td>\n",
              "      <td>3684944.68</td>\n",
              "      <td>3607289.68</td>\n",
              "      <td>3774356.60</td>\n",
              "      <td>3706711.84</td>\n",
              "      <td>3763187.55</td>\n",
              "      <td>3533625.83</td>\n",
              "      <td>3605007.43</td>\n",
              "      <td>3907032.72</td>\n",
              "      <td>3939820.71</td>\n",
              "      <td>3901084.11</td>\n",
              "      <td>3684407.02</td>\n",
              "      <td>3623015.58</td>\n",
              "      <td>3890461.90</td>\n",
              "      <td>4193533.87</td>\n",
              "      <td>4534400.67</td>\n",
              "      <td>4451208.03</td>\n",
              "      <td>4874592.78</td>\n",
              "      <td>4460802.38</td>\n",
              "      <td>5067886.24</td>\n",
              "      <td>4511092.85</td>\n",
              "      <td>4394680.50</td>\n",
              "      <td>4098741.80</td>\n",
              "      <td>4411499.48</td>\n",
              "      <td>3868617.95</td>\n",
              "      <td>4298702.78</td>\n",
              "      <td>...</td>\n",
              "      <td>7998345.94</td>\n",
              "      <td>8893683.69</td>\n",
              "      <td>8867793.32</td>\n",
              "      <td>8871408.50</td>\n",
              "      <td>8501601.67</td>\n",
              "      <td>8315107.81</td>\n",
              "      <td>8525499.78</td>\n",
              "      <td>9177611.46</td>\n",
              "      <td>7368996.38</td>\n",
              "      <td>8835095.43</td>\n",
              "      <td>8328186.64</td>\n",
              "      <td>8408512.77</td>\n",
              "      <td>9351705.82</td>\n",
              "      <td>8143007.97</td>\n",
              "      <td>8949741.77</td>\n",
              "      <td>9630553.15</td>\n",
              "      <td>9581970.31</td>\n",
              "      <td>7891114.05</td>\n",
              "      <td>9792370.67</td>\n",
              "      <td>9170787.53</td>\n",
              "      <td>8816846.71</td>\n",
              "      <td>10024554.15</td>\n",
              "      <td>9675423.70</td>\n",
              "      <td>8085025.66</td>\n",
              "      <td>9222010.60</td>\n",
              "      <td>7493901.30</td>\n",
              "      <td>8148169.46</td>\n",
              "      <td>7353768.37</td>\n",
              "      <td>7739864.47</td>\n",
              "      <td>9246097.96</td>\n",
              "      <td>11824687.13</td>\n",
              "      <td>11733307.76</td>\n",
              "      <td>10201985.14</td>\n",
              "      <td>7955139.45</td>\n",
              "      <td>9357946.29</td>\n",
              "      <td>8880836.55</td>\n",
              "      <td>9266014.59</td>\n",
              "      <td>7730597.04</td>\n",
              "      <td>11023309.47</td>\n",
              "      <td>996411254.68</td>\n",
              "    </tr>\n",
              "    <tr>\n",
              "      <th>1</th>\n",
              "      <td>12 Acre</td>\n",
              "      <td>902416.00</td>\n",
              "      <td>1497206.26</td>\n",
              "      <td>1794028.48</td>\n",
              "      <td>1730469.42</td>\n",
              "      <td>1819443.92</td>\n",
              "      <td>1828496.00</td>\n",
              "      <td>2511754.59</td>\n",
              "      <td>2089107.14</td>\n",
              "      <td>2275708.53</td>\n",
              "      <td>1923886.57</td>\n",
              "      <td>1756986.80</td>\n",
              "      <td>2235639.98</td>\n",
              "      <td>2497116.43</td>\n",
              "      <td>2253558.01</td>\n",
              "      <td>2122673.92</td>\n",
              "      <td>2834317.62</td>\n",
              "      <td>2722065.97</td>\n",
              "      <td>2432831.95</td>\n",
              "      <td>2630190.65</td>\n",
              "      <td>2307579.00</td>\n",
              "      <td>-</td>\n",
              "      <td>2826477.02</td>\n",
              "      <td>2170791.18</td>\n",
              "      <td>2541526.44</td>\n",
              "      <td>2491042.33</td>\n",
              "      <td>1954473.90</td>\n",
              "      <td>2389996.38</td>\n",
              "      <td>2654878.60</td>\n",
              "      <td>2844085.21</td>\n",
              "      <td>2336207.19</td>\n",
              "      <td>2125143.06</td>\n",
              "      <td>2430293.67</td>\n",
              "      <td>2377738.44</td>\n",
              "      <td>2184746.84</td>\n",
              "      <td>2468452.90</td>\n",
              "      <td>2516284.54</td>\n",
              "      <td>3051370.08</td>\n",
              "      <td>2629104.42</td>\n",
              "      <td>2485451.79</td>\n",
              "      <td>...</td>\n",
              "      <td>3576595.19</td>\n",
              "      <td>2444567.37</td>\n",
              "      <td>2602434.35</td>\n",
              "      <td>3064163.42</td>\n",
              "      <td>2276236.69</td>\n",
              "      <td>3239474.10</td>\n",
              "      <td>3126429.88</td>\n",
              "      <td>2998865.51</td>\n",
              "      <td>2619709.86</td>\n",
              "      <td>3018048.94</td>\n",
              "      <td>3342614.24</td>\n",
              "      <td>2123426.26</td>\n",
              "      <td>2664654.52</td>\n",
              "      <td>1906429.95</td>\n",
              "      <td>3096439.63</td>\n",
              "      <td>2411628.00</td>\n",
              "      <td>2840630.58</td>\n",
              "      <td>3260153.59</td>\n",
              "      <td>3250722.84</td>\n",
              "      <td>3204998.88</td>\n",
              "      <td>3052745.65</td>\n",
              "      <td>3124802.29</td>\n",
              "      <td>3021521.75</td>\n",
              "      <td>2874871.28</td>\n",
              "      <td>3331803.55</td>\n",
              "      <td>3417691.07</td>\n",
              "      <td>3076003.20</td>\n",
              "      <td>2286642.60</td>\n",
              "      <td>2896340.24</td>\n",
              "      <td>3045245.80</td>\n",
              "      <td>3915193.20</td>\n",
              "      <td>3640142.82</td>\n",
              "      <td>3391242.21</td>\n",
              "      <td>4044321.44</td>\n",
              "      <td>3276590.10</td>\n",
              "      <td>3696997.31</td>\n",
              "      <td>3715723.12</td>\n",
              "      <td>3538427.92</td>\n",
              "      <td>4077045.92</td>\n",
              "      <td>450048530.47</td>\n",
              "    </tr>\n",
              "    <tr>\n",
              "      <th>2</th>\n",
              "      <td>13 Amazonas</td>\n",
              "      <td>4735529.42</td>\n",
              "      <td>7118990.57</td>\n",
              "      <td>8196635.49</td>\n",
              "      <td>8259378.42</td>\n",
              "      <td>7831399.90</td>\n",
              "      <td>8477273.62</td>\n",
              "      <td>9368858.72</td>\n",
              "      <td>9352532.70</td>\n",
              "      <td>9363099.35</td>\n",
              "      <td>8618318.83</td>\n",
              "      <td>6555549.08</td>\n",
              "      <td>7777645.88</td>\n",
              "      <td>7403068.36</td>\n",
              "      <td>6683346.89</td>\n",
              "      <td>9927781.20</td>\n",
              "      <td>8844511.21</td>\n",
              "      <td>9079035.96</td>\n",
              "      <td>8832894.53</td>\n",
              "      <td>9373395.97</td>\n",
              "      <td>9578326.03</td>\n",
              "      <td>9730634.16</td>\n",
              "      <td>9179252.65</td>\n",
              "      <td>8314648.93</td>\n",
              "      <td>9050439.39</td>\n",
              "      <td>9419460.86</td>\n",
              "      <td>8680178.57</td>\n",
              "      <td>9168055.41</td>\n",
              "      <td>9897901.80</td>\n",
              "      <td>9651362.37</td>\n",
              "      <td>10854599.47</td>\n",
              "      <td>10417122.89</td>\n",
              "      <td>8718347.13</td>\n",
              "      <td>8221592.12</td>\n",
              "      <td>9613977.03</td>\n",
              "      <td>9927574.41</td>\n",
              "      <td>9470661.21</td>\n",
              "      <td>9736750.91</td>\n",
              "      <td>8745259.80</td>\n",
              "      <td>9380112.36</td>\n",
              "      <td>...</td>\n",
              "      <td>13572263.03</td>\n",
              "      <td>13083081.70</td>\n",
              "      <td>14322305.22</td>\n",
              "      <td>14643340.51</td>\n",
              "      <td>14632208.09</td>\n",
              "      <td>14500521.14</td>\n",
              "      <td>14840533.42</td>\n",
              "      <td>14427620.91</td>\n",
              "      <td>15818964.25</td>\n",
              "      <td>16358462.57</td>\n",
              "      <td>15391163.74</td>\n",
              "      <td>14154362.85</td>\n",
              "      <td>16791397.31</td>\n",
              "      <td>14369987.43</td>\n",
              "      <td>16339024.96</td>\n",
              "      <td>15622910.63</td>\n",
              "      <td>16483166.92</td>\n",
              "      <td>15422243.28</td>\n",
              "      <td>15961988.04</td>\n",
              "      <td>15787896.78</td>\n",
              "      <td>16515441.67</td>\n",
              "      <td>15788848.91</td>\n",
              "      <td>15784686.14</td>\n",
              "      <td>14388606.82</td>\n",
              "      <td>16063450.73</td>\n",
              "      <td>14939977.20</td>\n",
              "      <td>15107056.74</td>\n",
              "      <td>13534657.88</td>\n",
              "      <td>19698748.89</td>\n",
              "      <td>21129394.43</td>\n",
              "      <td>19769460.14</td>\n",
              "      <td>18059931.43</td>\n",
              "      <td>17841015.63</td>\n",
              "      <td>16408315.10</td>\n",
              "      <td>19895617.91</td>\n",
              "      <td>17765167.69</td>\n",
              "      <td>21430289.17</td>\n",
              "      <td>25917134.55</td>\n",
              "      <td>22032176.22</td>\n",
              "      <td>1917247936.05</td>\n",
              "    </tr>\n",
              "    <tr>\n",
              "      <th>3</th>\n",
              "      <td>14 Roraima</td>\n",
              "      <td>657889.53</td>\n",
              "      <td>777939.31</td>\n",
              "      <td>718688.03</td>\n",
              "      <td>839994.39</td>\n",
              "      <td>862347.96</td>\n",
              "      <td>832440.66</td>\n",
              "      <td>996693.09</td>\n",
              "      <td>894271.18</td>\n",
              "      <td>910424.17</td>\n",
              "      <td>1191770.32</td>\n",
              "      <td>1056218.71</td>\n",
              "      <td>1244339.25</td>\n",
              "      <td>1085679.25</td>\n",
              "      <td>969528.54</td>\n",
              "      <td>1393226.70</td>\n",
              "      <td>1273734.17</td>\n",
              "      <td>1552638.50</td>\n",
              "      <td>1490587.74</td>\n",
              "      <td>1596751.80</td>\n",
              "      <td>1848998.68</td>\n",
              "      <td>1701611.25</td>\n",
              "      <td>1164711.18</td>\n",
              "      <td>1434809.17</td>\n",
              "      <td>1603817.28</td>\n",
              "      <td>1437340.80</td>\n",
              "      <td>1332094.01</td>\n",
              "      <td>1900513.75</td>\n",
              "      <td>1933875.49</td>\n",
              "      <td>1773958.29</td>\n",
              "      <td>1804729.73</td>\n",
              "      <td>1846639.32</td>\n",
              "      <td>1643518.23</td>\n",
              "      <td>1843163.29</td>\n",
              "      <td>1807885.17</td>\n",
              "      <td>1674871.65</td>\n",
              "      <td>1250999.28</td>\n",
              "      <td>1257275.43</td>\n",
              "      <td>1171045.72</td>\n",
              "      <td>1389668.67</td>\n",
              "      <td>...</td>\n",
              "      <td>2914195.21</td>\n",
              "      <td>2881281.13</td>\n",
              "      <td>2740423.51</td>\n",
              "      <td>2695484.62</td>\n",
              "      <td>2613895.43</td>\n",
              "      <td>3020718.84</td>\n",
              "      <td>2860584.22</td>\n",
              "      <td>2740088.01</td>\n",
              "      <td>2689103.41</td>\n",
              "      <td>2985029.23</td>\n",
              "      <td>2771881.20</td>\n",
              "      <td>2938769.32</td>\n",
              "      <td>2527888.58</td>\n",
              "      <td>2587642.41</td>\n",
              "      <td>1923440.17</td>\n",
              "      <td>2422446.17</td>\n",
              "      <td>2495491.03</td>\n",
              "      <td>2851291.67</td>\n",
              "      <td>3137537.40</td>\n",
              "      <td>3788154.80</td>\n",
              "      <td>3217218.61</td>\n",
              "      <td>3113940.14</td>\n",
              "      <td>3157977.67</td>\n",
              "      <td>3097113.21</td>\n",
              "      <td>3059823.80</td>\n",
              "      <td>2912519.98</td>\n",
              "      <td>2937346.43</td>\n",
              "      <td>2868820.96</td>\n",
              "      <td>2752228.26</td>\n",
              "      <td>3401864.29</td>\n",
              "      <td>3015488.30</td>\n",
              "      <td>2826486.18</td>\n",
              "      <td>2928043.91</td>\n",
              "      <td>3090313.73</td>\n",
              "      <td>3621031.05</td>\n",
              "      <td>3454460.94</td>\n",
              "      <td>3266928.47</td>\n",
              "      <td>3519773.73</td>\n",
              "      <td>3985530.08</td>\n",
              "      <td>328876965.09</td>\n",
              "    </tr>\n",
              "    <tr>\n",
              "      <th>4</th>\n",
              "      <td>15 Pará</td>\n",
              "      <td>18864744.11</td>\n",
              "      <td>19553758.20</td>\n",
              "      <td>21937342.70</td>\n",
              "      <td>20842829.69</td>\n",
              "      <td>23249952.88</td>\n",
              "      <td>23240687.56</td>\n",
              "      <td>24002223.56</td>\n",
              "      <td>23341218.03</td>\n",
              "      <td>25172261.32</td>\n",
              "      <td>24011712.48</td>\n",
              "      <td>21526303.70</td>\n",
              "      <td>23896804.99</td>\n",
              "      <td>24613320.93</td>\n",
              "      <td>24015940.01</td>\n",
              "      <td>26624310.10</td>\n",
              "      <td>26478979.58</td>\n",
              "      <td>26366401.19</td>\n",
              "      <td>25440701.25</td>\n",
              "      <td>28079331.88</td>\n",
              "      <td>27588522.26</td>\n",
              "      <td>27967969.22</td>\n",
              "      <td>28430631.19</td>\n",
              "      <td>25432419.12</td>\n",
              "      <td>26405862.20</td>\n",
              "      <td>25841889.70</td>\n",
              "      <td>26527192.33</td>\n",
              "      <td>27433129.31</td>\n",
              "      <td>25753868.16</td>\n",
              "      <td>27515463.84</td>\n",
              "      <td>26934203.47</td>\n",
              "      <td>26668195.02</td>\n",
              "      <td>26606749.81</td>\n",
              "      <td>27226660.53</td>\n",
              "      <td>27185706.84</td>\n",
              "      <td>27019994.90</td>\n",
              "      <td>26036033.25</td>\n",
              "      <td>27913374.40</td>\n",
              "      <td>26771060.28</td>\n",
              "      <td>27060396.38</td>\n",
              "      <td>...</td>\n",
              "      <td>31591185.32</td>\n",
              "      <td>31378879.00</td>\n",
              "      <td>32909877.51</td>\n",
              "      <td>35053278.80</td>\n",
              "      <td>33973133.85</td>\n",
              "      <td>35560757.57</td>\n",
              "      <td>33465172.06</td>\n",
              "      <td>35497371.12</td>\n",
              "      <td>34896020.28</td>\n",
              "      <td>37385364.64</td>\n",
              "      <td>34294171.03</td>\n",
              "      <td>34168505.29</td>\n",
              "      <td>33849909.80</td>\n",
              "      <td>32871717.66</td>\n",
              "      <td>33130995.71</td>\n",
              "      <td>36044319.40</td>\n",
              "      <td>35906526.59</td>\n",
              "      <td>35242306.77</td>\n",
              "      <td>29460144.72</td>\n",
              "      <td>31179893.86</td>\n",
              "      <td>34175218.80</td>\n",
              "      <td>36122298.83</td>\n",
              "      <td>36874442.23</td>\n",
              "      <td>35947766.42</td>\n",
              "      <td>34365985.58</td>\n",
              "      <td>37417579.86</td>\n",
              "      <td>35610330.34</td>\n",
              "      <td>28292446.48</td>\n",
              "      <td>32998806.72</td>\n",
              "      <td>42192745.99</td>\n",
              "      <td>40804126.43</td>\n",
              "      <td>44385715.88</td>\n",
              "      <td>36820249.47</td>\n",
              "      <td>36965931.34</td>\n",
              "      <td>39004315.80</td>\n",
              "      <td>38015145.79</td>\n",
              "      <td>38354682.46</td>\n",
              "      <td>37688314.23</td>\n",
              "      <td>33276392.89</td>\n",
              "      <td>4705309002.29</td>\n",
              "    </tr>\n",
              "  </tbody>\n",
              "</table>\n",
              "<p>5 rows × 161 columns</p>\n",
              "</div>"
            ],
            "text/plain": [
              "  Unidade da Federação    2008/Jan  ...    2021/Mar         Total\n",
              "0          11 Rondônia  1388528.39  ... 11023309.47  996411254.68\n",
              "1              12 Acre   902416.00  ...  4077045.92  450048530.47\n",
              "2          13 Amazonas  4735529.42  ... 22032176.22 1917247936.05\n",
              "3           14 Roraima   657889.53  ...  3985530.08  328876965.09\n",
              "4              15 Pará 18864744.11  ... 33276392.89 4705309002.29\n",
              "\n",
              "[5 rows x 161 columns]"
            ]
          },
          "metadata": {
            "tags": []
          },
          "execution_count": 37
        }
      ]
    },
    {
      "cell_type": "code",
      "metadata": {
        "colab": {
          "base_uri": "https://localhost:8080/"
        },
        "id": "MlVGAFR4GyE2",
        "outputId": "4305239a-e69e-45ca-d976-47281b95eb34"
      },
      "source": [
        "dados.mean()"
      ],
      "execution_count": 38,
      "outputs": [
        {
          "output_type": "execute_result",
          "data": {
            "text/plain": [
              "2008/Jan     15126846.64\n",
              "2008/Fev     22710158.12\n",
              "2008/Mar     24594187.35\n",
              "2008/Abr     25431957.83\n",
              "2008/Mai     26511245.91\n",
              "                ...     \n",
              "2020/Dez     53377763.15\n",
              "2021/Jan     56073748.02\n",
              "2021/Fev     55578233.31\n",
              "2021/Mar     62502301.42\n",
              "Total      6388213338.48\n",
              "Length: 159, dtype: float64"
            ]
          },
          "metadata": {
            "tags": []
          },
          "execution_count": 38
        }
      ]
    },
    {
      "cell_type": "code",
      "metadata": {
        "colab": {
          "base_uri": "https://localhost:8080/"
        },
        "id": "osZACBukJiSI",
        "outputId": "1e2c6063-21b0-4b6b-fd04-a24d95f678a1"
      },
      "source": [
        "dados.info()"
      ],
      "execution_count": 39,
      "outputs": [
        {
          "output_type": "stream",
          "text": [
            "<class 'pandas.core.frame.DataFrame'>\n",
            "RangeIndex: 27 entries, 0 to 26\n",
            "Columns: 161 entries, Unidade da Federação to Total\n",
            "dtypes: float64(159), object(2)\n",
            "memory usage: 34.1+ KB\n"
          ],
          "name": "stdout"
        }
      ]
    },
    {
      "cell_type": "code",
      "metadata": {
        "id": "PY26OE2nJlm8"
      },
      "source": [
        "pd.options.display.float_format = \"{:.2f}\".format"
      ],
      "execution_count": 40,
      "outputs": []
    },
    {
      "cell_type": "code",
      "metadata": {
        "colab": {
          "base_uri": "https://localhost:8080/"
        },
        "id": "AE9LHCIVJ1dG",
        "outputId": "7fa89aa4-c8de-4242-fd66-e53dfe55eaaa"
      },
      "source": [
        "dados.mean()"
      ],
      "execution_count": 41,
      "outputs": [
        {
          "output_type": "execute_result",
          "data": {
            "text/plain": [
              "2008/Jan     15126846.64\n",
              "2008/Fev     22710158.12\n",
              "2008/Mar     24594187.35\n",
              "2008/Abr     25431957.83\n",
              "2008/Mai     26511245.91\n",
              "                ...     \n",
              "2020/Dez     53377763.15\n",
              "2021/Jan     56073748.02\n",
              "2021/Fev     55578233.31\n",
              "2021/Mar     62502301.42\n",
              "Total      6388213338.48\n",
              "Length: 159, dtype: float64"
            ]
          },
          "metadata": {
            "tags": []
          },
          "execution_count": 41
        }
      ]
    },
    {
      "cell_type": "code",
      "metadata": {
        "colab": {
          "base_uri": "https://localhost:8080/"
        },
        "id": "HStlmWgTJ-74",
        "outputId": "a0c49892-5613-4b01-d700-1c2d8f114435"
      },
      "source": [
        "dados['2008/Ago'].mean()"
      ],
      "execution_count": 42,
      "outputs": [
        {
          "output_type": "execute_result",
          "data": {
            "text/plain": [
              "27800320.306666665"
            ]
          },
          "metadata": {
            "tags": []
          },
          "execution_count": 42
        }
      ]
    },
    {
      "cell_type": "code",
      "metadata": {
        "colab": {
          "base_uri": "https://localhost:8080/",
          "height": 512
        },
        "id": "S9ltMvbnKrmr",
        "outputId": "a6f87f57-d0a5-4bf2-e766-a38659d24dbb"
      },
      "source": [
        "import matplotlib.pyplot as plt\n",
        "import matplotlib.ticker as ticker\n",
        "\n",
        "ax = dados.plot(x='Unidade da Federação' , y='2008/Ago', kind='bar', figsize=(9,6))\n",
        "ax.yaxis.set_major_formatter(ticker.StrMethodFormatter('{x:,.2f}'))\n",
        "plt.title(\"Custo Hospitalar no Brasil\")\n",
        "\n",
        "a = plt.show() "
      ],
      "execution_count": 76,
      "outputs": [
        {
          "output_type": "display_data",
          "data": {
            "image/png": "[encoded data removed]",
            "text/plain": [
              "<Figure size 648x432 with 1 Axes>"
            ]
          },
          "metadata": {
            "tags": [],
            "needs_background": "light"
          }
        }
      ]
    },
    {
      "cell_type": "code",
      "metadata": {
        "colab": {
          "base_uri": "https://localhost:8080/",
          "height": 512
        },
        "id": "DyMFiT7URe6G",
        "outputId": "f1816415-0600-45e7-93c2-cd2815039592"
      },
      "source": [
        "ax = dados.plot(x='Unidade da Federação' , y='2021/Mar', kind='bar', figsize=(9,6))\n",
        "ax.yaxis.set_major_formatter(ticker.StrMethodFormatter('{x:,.2f}'))\n",
        "plt.title(\"Custo Hospitalar no Brasil\")\n",
        "\n",
        "plt.show() \n",
        "\n"
      ],
      "execution_count": 83,
      "outputs": [
        {
          "output_type": "display_data",
          "data": {
            "image/png": "[encoded data removed]",
            "text/plain": [
              "<Figure size 648x432 with 1 Axes>"
            ]
          },
          "metadata": {
            "tags": [],
            "needs_background": "light"
          }
        }
      ]
    },
    {
      "cell_type": "code",
      "metadata": {
        "colab": {
          "base_uri": "https://localhost:8080/"
        },
        "id": "eWhE2lXRRsEK",
        "outputId": "2ddc0873-6974-4d0d-bf8e-fef5ad6e1f35"
      },
      "source": [
        "diferenca = dados['2021/Mar'].mean() - dados['2008/Ago'].mean()\n",
        "print('%.2f' %  diferenca)"
      ],
      "execution_count": 103,
      "outputs": [
        {
          "output_type": "stream",
          "text": [
            "34701981.11\n"
          ],
          "name": "stdout"
        }
      ]
    },
    {
      "cell_type": "code",
      "metadata": {
        "id": "-71wKy_dRvXJ"
      },
      "source": [
        ""
      ],
      "execution_count": null,
      "outputs": []
    }
  ]
}